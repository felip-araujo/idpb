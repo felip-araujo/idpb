{
 "cells": [
  {
   "cell_type": "code",
   "execution_count": 11,
   "metadata": {},
   "outputs": [
    {
     "name": "stdout",
     "output_type": "stream",
     "text": [
      "(1, 'Ana Oliveira', 'ana.oliveira@email.com', 32, 'São Paulo')\n",
      "(2, 'Carlos Ferreira', 'carlos.ferreira@email.com', 27, 'Rio de Janeiro')\n",
      "(3, 'Juliana Santos', 'juliana.santos@email.com', 30, 'Belo Horizonte')\n"
     ]
    }
   ],
   "source": [
    "import mariadb\n",
    "\n",
    "conexao = mariadb.connect(\n",
    "    host=\"54.196.208.38\",\n",
    "    user=\"root\",\n",
    "    password=\"qiykGUao3R.D\",\n",
    "    database=\"IDPB\",\n",
    "    port=3306\n",
    ")\n",
    "\n",
    "sql = conexao.cursor()\n",
    "\n",
    "sql.execute(\"SELECT * FROM usuarios\")\n",
    "resultados = sql.fetchall()\n",
    "\n",
    "for registros in resultados:\n",
    "    if registros[1]:\n",
    "        print(registros)\n",
    "        \n",
    "sql.close()\n",
    "conexao.close()"
   ]
  }
 ],
 "metadata": {
  "kernelspec": {
   "display_name": "base",
   "language": "python",
   "name": "python3"
  },
  "language_info": {
   "codemirror_mode": {
    "name": "ipython",
    "version": 3
   },
   "file_extension": ".py",
   "mimetype": "text/x-python",
   "name": "python",
   "nbconvert_exporter": "python",
   "pygments_lexer": "ipython3",
   "version": "3.12.4"
  }
 },
 "nbformat": 4,
 "nbformat_minor": 2
}
