{
 "cells": [
  {
   "cell_type": "code",
   "execution_count": null,
   "metadata": {},
   "outputs": [
    {
     "ename": "",
     "evalue": "",
     "output_type": "error",
     "traceback": [
      "\u001b[1;31mRunning cells with 'Python 3.11.2' requires the ipykernel package.\n",
      "\u001b[1;31mRun the following command to install 'ipykernel' into the Python environment. \n",
      "\u001b[1;31mCommand: '/bin/python3 -m pip install ipykernel -U --user --force-reinstall'"
     ]
    }
   ],
   "source": [
    "import pymysql\n",
    "import pandas as pd\n",
    "import json\n",
    "from datetime import datetime\n",
    "import os\n",
    "\n",
    "# Conectar ao banco de dados\n",
    "conexao = pymysql.connect(\n",
    "    host=\"54.196.208.38\",\n",
    "    user=\"root\",\n",
    "    password=\"qiykGUao3R.D\",\n",
    "    database=\"IDPB\",\n",
    "    port=3306\n",
    ")\n",
    "\n",
    "# Criar um cursor\n",
    "sql = conexao.cursor()\n",
    "\n",
    "# Executar a consulta e criar DataFrame para relatorio_lider\n",
    "sql.execute(\"SELECT * FROM relatorio_lider\")\n",
    "resultados = sql.fetchall()\n",
    "colunas = [desc[0] for desc in sql.description]\n",
    "df_relatorio_lider = pd.DataFrame(resultados, columns=colunas)\n",
    "df_relatorio_lider.to_csv('/..dados_csv/dados_relatorio_lider.csv', index=False)\n",
    "\n",
    "# Executar a consulta e criar DataFrame para presencas\n",
    "sql.execute(\"SELECT * FROM presencas\")\n",
    "resultados = sql.fetchall()\n",
    "colunas = [desc[0] for desc in sql.description]\n",
    "df_presencas = pd.DataFrame(resultados, columns=colunas)\n",
    "df_presencas.to_csv('../dados_csv/dados_presencas.csv', index=False)\n",
    "\n",
    "# Fechar o cursor e a conexão\n",
    "sql.close()\n",
    "conexao.close()"
   ]
  }
 ],
 "metadata": {
  "kernelspec": {
   "display_name": "Python 3",
   "language": "python",
   "name": "python3"
  },
  "language_info": {
   "name": "python",
   "version": "3.11.2"
  }
 },
 "nbformat": 4,
 "nbformat_minor": 2
}
